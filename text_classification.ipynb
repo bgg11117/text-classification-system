{
 "cells": [
  {
   "cell_type": "markdown",
   "metadata": {},
   "source": [
    "### 1.加载数据集\n",
    "\n",
    "\n",
    "- 从[20 Newsgroups](http://www.qwone.com/~jason/20Newsgroups/)下载**20news-bydate.tar.gz**数据集，解压到当前目录。\n",
    "\n",
    "- 使用[sklearn.datasets.load_files](http://scikit-learn.org/stable/modules/generated/sklearn.datasets.load_files.html)加载数据集。"
   ]
  },
  {
   "cell_type": "code",
   "execution_count": 1,
   "metadata": {
    "collapsed": false
   },
   "outputs": [
    {
     "name": "stdout",
     "output_type": "stream",
     "text": [
      "20 11314 20 7532\n"
     ]
    }
   ],
   "source": [
    "from sklearn import datasets\n",
    "\n",
    "# 加载数据\n",
    "twenty_train = datasets.load_files(\"./20news-bydate/20news-bydate-train\")\n",
    "twenty_test = datasets.load_files(\"./20news-bydate/20news-bydate-test\")\n",
    "\n",
    "# 查看数据集的大小\n",
    "print(len(twenty_train.target_names), len(twenty_train.data), len(twenty_test.target_names), len(twenty_test.data))"
   ]
  },
  {
   "cell_type": "markdown",
   "metadata": {},
   "source": [
    "从输出可以看到：\n",
    "- 训练集包含20个类别，共11314篇新闻\n",
    "- 测试集包含20个类别，共7532篇新闻"
   ]
  },
  {
   "cell_type": "markdown",
   "metadata": {},
   "source": [
    "### 2.文件特征提取\n",
    "\n",
    "文本数据属于非结构化的数据，一般要转换成结构化的数据，才能进行实施机器学习算法实现文本分类。\n",
    "\n",
    "常见的做法是将文本转换成『文档-词项矩阵』。矩阵中的元素，可以使用词频，或者『TF-IDF』值等。"
   ]
  },
  {
   "cell_type": "markdown",
   "metadata": {},
   "source": [
    "#### 计算词频\n",
    "\n",
    "为了将原始文本转换成分类算法可以使用的特征数据，首先需要使用**词袋(bag-of-word)**方法来衡量文本间相似性，最终生成每个文本的特征向量。\n",
    "\n",
    "词袋方法基于简单的词频统计；统计每一个文本中的词频，表示成一个向量，即向量化。Scikit-learn的**[CountVectorizer](http://scikit-learn.org/stable/modules/generated/sklearn.feature_extraction.text.CountVectorizer.html)**可以高效地完成词频统计的工作。"
   ]
  },
  {
   "cell_type": "code",
   "execution_count": 2,
   "metadata": {
    "collapsed": false
   },
   "outputs": [
    {
     "name": "stdout",
     "output_type": "stream",
     "text": [
      "#sample: 11314, #feature: 129783\n"
     ]
    }
   ],
   "source": [
    "# 计算词频\n",
    "from sklearn.feature_extraction.text import CountVectorizer\n",
    "count_vect = CountVectorizer(min_df=1, stop_words=\"english\", decode_error='ignore')\n",
    "X_train_counts = count_vect.fit_transform(twenty_train.data)\n",
    "num_samples, num_features = X_train_counts.shape\n",
    "print(\"#sample: %d, #feature: %d\" % (num_samples, num_features))"
   ]
  },
  {
   "cell_type": "markdown",
   "metadata": {},
   "source": [
    "从输出可以看到：11314个文档包含了129783个词语。"
   ]
  },
  {
   "cell_type": "markdown",
   "metadata": {},
   "source": [
    "#### 使用TF-IDF进行特征提取"
   ]
  },
  {
   "cell_type": "code",
   "execution_count": 3,
   "metadata": {
    "collapsed": false
   },
   "outputs": [
    {
     "name": "stdout",
     "output_type": "stream",
     "text": [
      "#sample: 11314, #feature: 129783\n"
     ]
    }
   ],
   "source": [
    "# 使用TF-IDF进行特征提取\n",
    "from sklearn.feature_extraction.text import TfidfTransformer\n",
    "tfidf_transformer = TfidfTransformer()\n",
    "X_train_tfidf = tfidf_transformer.fit_transform(X_train_counts)\n",
    "num_samples, num_features = X_train_tfidf.shape\n",
    "print(\"#sample: %d, #feature: %d\" % (num_samples, num_features))"
   ]
  },
  {
   "cell_type": "markdown",
   "metadata": {},
   "source": [
    "### 3.分类器训练\n",
    "\n",
    "用贝叶斯分类器对测试文档做分类"
   ]
  },
  {
   "cell_type": "code",
   "execution_count": 4,
   "metadata": {
    "collapsed": false
   },
   "outputs": [
    {
     "name": "stdout",
     "output_type": "stream",
     "text": [
      "training time: 0.227000\n",
      "'God is love' => soc.religion.christian\n",
      "'OpenGL on the GPU is fast' => comp.graphics\n"
     ]
    }
   ],
   "source": [
    "# 训练分类器\n",
    "from time import time\n",
    "from sklearn.naive_bayes import MultinomialNB\n",
    "clf = MultinomialNB()\n",
    "\n",
    "t = time()\n",
    "clf = clf.fit(X_train_tfidf, twenty_train.target)\n",
    "print(\"training time: %f\" % round(time()-t, 3))\n",
    "\n",
    "# 对新的样本进行预测\n",
    "docs_new = ['God is love', 'OpenGL on the GPU is fast']\n",
    "X_new_counts = count_vect.transform(docs_new)\n",
    "X_new_tfidf = tfidf_transformer.transform(X_new_counts)\n",
    "\n",
    "pred = clf.predict(X_new_tfidf)\n",
    "\n",
    "for doc, category in zip(docs_new, pred):\n",
    "    print(\"%r => %s\" %(doc, twenty_train.target_names[category]))"
   ]
  },
  {
   "cell_type": "markdown",
   "metadata": {},
   "source": [
    "### 4.分类效果评价\n",
    "\n",
    "#### 建立管道"
   ]
  },
  {
   "cell_type": "code",
   "execution_count": 5,
   "metadata": {
    "collapsed": false
   },
   "outputs": [
    {
     "name": "stdout",
     "output_type": "stream",
     "text": [
      "training time: 4.384000\n"
     ]
    }
   ],
   "source": [
    "# 建立管道\n",
    "from sklearn.pipeline import Pipeline\n",
    "text_clf_NB = Pipeline([('vect', CountVectorizer(stop_words=\"english\", decode_error='ignore')),\n",
    "                        ('tfidf', TfidfTransformer()),\n",
    "                        ('clf', MultinomialNB()),\n",
    "                    ])\n",
    "\n",
    "t = time()\n",
    "text_clf_NB = text_clf_NB.fit(twenty_train.data, twenty_train.target)\n",
    "print(\"training time: %f\" % round(time()-t, 3))"
   ]
  },
  {
   "cell_type": "markdown",
   "metadata": {},
   "source": [
    "#### 测试集分类准确率"
   ]
  },
  {
   "cell_type": "code",
   "execution_count": 6,
   "metadata": {
    "collapsed": false
   },
   "outputs": [
    {
     "name": "stdout",
     "output_type": "stream",
     "text": [
      "testing time: 2.289000\n",
      "Accuracy: 0.816914498141\n"
     ]
    }
   ],
   "source": [
    "import numpy as np\n",
    "from sklearn.metrics import accuracy_score\n",
    "\n",
    "docs_test = twenty_test.data\n",
    "\n",
    "t = time()\n",
    "pred_NB = text_clf_NB.predict(docs_test)\n",
    "print(\"testing time: %f\" % round(time()-t, 3))\n",
    "\n",
    "accuracy = accuracy_score(twenty_test.target, pred_NB)\n",
    "print(\"Accuracy:\", accuracy)"
   ]
  },
  {
   "cell_type": "markdown",
   "metadata": {},
   "source": [
    "使用朴素贝叶斯分类器，得到的测试集分类准确率为81.7%，而且训练时间为4秒(包括特征提取)，测试时间只用2秒，效果还不错！"
   ]
  },
  {
   "cell_type": "markdown",
   "metadata": {},
   "source": [
    "下面，使用**线性核支持向量机**看看效果如何。"
   ]
  },
  {
   "cell_type": "code",
   "execution_count": 7,
   "metadata": {
    "collapsed": false
   },
   "outputs": [
    {
     "name": "stdout",
     "output_type": "stream",
     "text": [
      "training time: 149.937000\n",
      "testing time: 58.933000\n",
      "Accuracy: 0.83497079129\n"
     ]
    }
   ],
   "source": [
    "from sklearn.svm import SVC\n",
    "text_clf_SVM = Pipeline([('vect', CountVectorizer(stop_words='english', decode_error='ignore')),\n",
    "                            ('tfidf', TfidfTransformer()),\n",
    "                            ('clf', SVC(kernel='linear', C=1.0, random_state=2)),\n",
    "                        ])\n",
    "\n",
    "t0 = time()\n",
    "text_clf_SVM = text_clf_SVM.fit(twenty_train.data, twenty_train.target)\n",
    "print(\"training time: %f\" % round(time()-t0, 3))\n",
    "\n",
    "t1 = time()\n",
    "pred_SVM = text_clf_SVM.predict(docs_test)\n",
    "print(\"testing time: %f\" % round(time()-t1, 3))\n",
    "\n",
    "accuracy = accuracy_score(twenty_test.target, pred_SVM)\n",
    "print(\"Accuracy:\", accuracy)"
   ]
  },
  {
   "cell_type": "markdown",
   "metadata": {},
   "source": [
    "支持向量机的分类准确率有所提升,但训练和测试时间都比贝叶斯分类器要长很多。"
   ]
  },
  {
   "cell_type": "markdown",
   "metadata": {},
   "source": [
    "下面，使用**k最近邻**看看效果如何。"
   ]
  },
  {
   "cell_type": "code",
   "execution_count": 8,
   "metadata": {
    "collapsed": false
   },
   "outputs": [
    {
     "name": "stdout",
     "output_type": "stream",
     "text": [
      "training time: 3.905000\n",
      "testing time: 22.343000\n",
      "Accuracy: 0.675783324482\n"
     ]
    }
   ],
   "source": [
    "from sklearn.neighbors import KNeighborsClassifier\n",
    "text_clf_kNN = Pipeline([('vect', CountVectorizer(stop_words='english', decode_error='ignore')),\n",
    "                            ('tfidf', TfidfTransformer()),\n",
    "                            ('clf', KNeighborsClassifier(n_neighbors=5)),\n",
    "                        ])\n",
    "\n",
    "t0 = time()\n",
    "text_clf_kNN = text_clf_kNN.fit(twenty_train.data, twenty_train.target)\n",
    "print(\"training time: %f\" % round(time()-t0, 3))\n",
    "\n",
    "t1 = time()\n",
    "pred_kNN = text_clf_kNN.predict(docs_test)\n",
    "print(\"testing time: %f\" % round(time()-t1, 3))\n",
    "\n",
    "accuracy = accuracy_score(twenty_test.target, pred_kNN)\n",
    "print(\"Accuracy:\", accuracy)"
   ]
  },
  {
   "cell_type": "markdown",
   "metadata": {},
   "source": [
    "kNN算法训练时间比SVM短，但正确率只有67%。"
   ]
  },
  {
   "cell_type": "markdown",
   "metadata": {},
   "source": [
    "`scikit-learn`中提供了更精细化的评价指标，如：各类别的精确度，召回率，F值等。\n",
    "\n",
    "下面，我们来看看更详细的指标表现如何。"
   ]
  },
  {
   "cell_type": "code",
   "execution_count": 9,
   "metadata": {
    "collapsed": false
   },
   "outputs": [
    {
     "name": "stdout",
     "output_type": "stream",
     "text": [
      "                          precision    recall  f1-score   support\n",
      "\n",
      "             alt.atheism       0.80      0.69      0.74       319\n",
      "           comp.graphics       0.78      0.72      0.75       389\n",
      " comp.os.ms-windows.misc       0.79      0.72      0.75       394\n",
      "comp.sys.ibm.pc.hardware       0.68      0.81      0.74       392\n",
      "   comp.sys.mac.hardware       0.86      0.81      0.84       385\n",
      "          comp.windows.x       0.87      0.78      0.82       395\n",
      "            misc.forsale       0.87      0.80      0.83       390\n",
      "               rec.autos       0.88      0.91      0.90       396\n",
      "         rec.motorcycles       0.93      0.96      0.95       398\n",
      "      rec.sport.baseball       0.91      0.92      0.92       397\n",
      "        rec.sport.hockey       0.88      0.98      0.93       399\n",
      "               sci.crypt       0.75      0.96      0.84       396\n",
      "         sci.electronics       0.84      0.65      0.74       393\n",
      "                 sci.med       0.92      0.79      0.85       396\n",
      "               sci.space       0.82      0.94      0.88       394\n",
      "  soc.religion.christian       0.62      0.96      0.76       398\n",
      "      talk.politics.guns       0.66      0.95      0.78       364\n",
      "   talk.politics.mideast       0.95      0.94      0.94       376\n",
      "      talk.politics.misc       0.94      0.52      0.67       310\n",
      "      talk.religion.misc       0.95      0.24      0.38       251\n",
      "\n",
      "             avg / total       0.83      0.82      0.81      7532\n",
      "\n"
     ]
    }
   ],
   "source": [
    "from sklearn import metrics\n",
    "print(metrics.classification_report(twenty_test.target, pred_NB, target_names=twenty_test.target_names))"
   ]
  },
  {
   "cell_type": "markdown",
   "metadata": {},
   "source": [
    "贝叶斯分类器，在测试集上的精确度和召回率的表现均不错。"
   ]
  },
  {
   "cell_type": "code",
   "execution_count": 10,
   "metadata": {
    "collapsed": false
   },
   "outputs": [
    {
     "name": "stdout",
     "output_type": "stream",
     "text": [
      "                          precision    recall  f1-score   support\n",
      "\n",
      "             alt.atheism       0.84      0.75      0.79       319\n",
      "           comp.graphics       0.68      0.81      0.74       389\n",
      " comp.os.ms-windows.misc       0.78      0.72      0.75       394\n",
      "comp.sys.ibm.pc.hardware       0.69      0.80      0.74       392\n",
      "   comp.sys.mac.hardware       0.83      0.84      0.84       385\n",
      "          comp.windows.x       0.83      0.74      0.78       395\n",
      "            misc.forsale       0.79      0.90      0.84       390\n",
      "               rec.autos       0.88      0.89      0.89       396\n",
      "         rec.motorcycles       0.97      0.94      0.95       398\n",
      "      rec.sport.baseball       0.91      0.93      0.92       397\n",
      "        rec.sport.hockey       0.97      0.95      0.96       399\n",
      "               sci.crypt       0.96      0.89      0.93       396\n",
      "         sci.electronics       0.72      0.80      0.75       393\n",
      "                 sci.med       0.87      0.85      0.86       396\n",
      "               sci.space       0.92      0.90      0.91       394\n",
      "  soc.religion.christian       0.84      0.92      0.88       398\n",
      "      talk.politics.guns       0.75      0.89      0.81       364\n",
      "   talk.politics.mideast       0.98      0.84      0.91       376\n",
      "      talk.politics.misc       0.80      0.59      0.68       310\n",
      "      talk.religion.misc       0.74      0.61      0.67       251\n",
      "\n",
      "             avg / total       0.84      0.83      0.83      7532\n",
      "\n"
     ]
    }
   ],
   "source": [
    "print(metrics.classification_report(twenty_test.target, pred_SVM, target_names=twenty_test.target_names))"
   ]
  },
  {
   "cell_type": "markdown",
   "metadata": {},
   "source": [
    "SVM分类器在测试集上的精确度和召回率的表现只比贝叶斯分类器好一点。"
   ]
  },
  {
   "cell_type": "code",
   "execution_count": 11,
   "metadata": {
    "collapsed": false
   },
   "outputs": [
    {
     "name": "stdout",
     "output_type": "stream",
     "text": [
      "                          precision    recall  f1-score   support\n",
      "\n",
      "             alt.atheism       0.62      0.75      0.68       319\n",
      "           comp.graphics       0.46      0.64      0.54       389\n",
      " comp.os.ms-windows.misc       0.52      0.59      0.55       394\n",
      "comp.sys.ibm.pc.hardware       0.50      0.59      0.54       392\n",
      "   comp.sys.mac.hardware       0.57      0.57      0.57       385\n",
      "          comp.windows.x       0.67      0.56      0.61       395\n",
      "            misc.forsale       0.49      0.45      0.47       390\n",
      "               rec.autos       0.73      0.70      0.72       396\n",
      "         rec.motorcycles       0.82      0.85      0.83       398\n",
      "      rec.sport.baseball       0.74      0.75      0.74       397\n",
      "        rec.sport.hockey       0.81      0.87      0.84       399\n",
      "               sci.crypt       0.78      0.83      0.80       396\n",
      "         sci.electronics       0.70      0.55      0.62       393\n",
      "                 sci.med       0.79      0.55      0.65       396\n",
      "               sci.space       0.76      0.80      0.78       394\n",
      "  soc.religion.christian       0.80      0.78      0.79       398\n",
      "      talk.politics.guns       0.73      0.72      0.72       364\n",
      "   talk.politics.mideast       0.81      0.75      0.78       376\n",
      "      talk.politics.misc       0.76      0.62      0.68       310\n",
      "      talk.religion.misc       0.63      0.55      0.58       251\n",
      "\n",
      "             avg / total       0.68      0.68      0.68      7532\n",
      "\n"
     ]
    }
   ],
   "source": [
    "print(metrics.classification_report(twenty_test.target, pred_kNN, target_names=twenty_test.target_names))"
   ]
  },
  {
   "cell_type": "markdown",
   "metadata": {},
   "source": [
    "kNN分类器，在测试集上的精确度和召回率的表现均比较差。"
   ]
  },
  {
   "cell_type": "markdown",
   "metadata": {},
   "source": [
    "### 使用网格搜索进行参数优化"
   ]
  },
  {
   "cell_type": "code",
   "execution_count": 13,
   "metadata": {
    "collapsed": false
   },
   "outputs": [],
   "source": [
    "from sklearn.grid_search import GridSearchCV\n",
    "parameters_SVM = {\n",
    "                    'clf__kernel':('linear', 'rbf'),\n",
    "                    'clf__C': [1, 2, 3, 4, 5, 6, 7, 8, 9, 10]\n",
    "                }\n",
    "\n",
    "gs_clf_SVM = GridSearchCV(text_clf_SVM, parameters_SVM, n_jobs = -1)\n",
    "gs_clf_SVM = gs_clf_SVM.fit(twenty_train.data,twenty_train.target)"
   ]
  },
  {
   "cell_type": "code",
   "execution_count": 20,
   "metadata": {
    "collapsed": false
   },
   "outputs": [
    {
     "data": {
      "text/plain": [
       "0.90825525897118609"
      ]
     },
     "execution_count": 20,
     "metadata": {},
     "output_type": "execute_result"
    }
   ],
   "source": [
    "gs_clf_SVM.best_score_\n",
    "# gs_clf_SVM.best_estimator_.get_params()  "
   ]
  },
  {
   "cell_type": "code",
   "execution_count": 15,
   "metadata": {
    "collapsed": false
   },
   "outputs": [
    {
     "name": "stdout",
     "output_type": "stream",
     "text": [
      "Accuracy:  0.837095061073\n"
     ]
    }
   ],
   "source": [
    "pred = gs_clf_SVM.predict(twenty_test.data)\n",
    "print(\"Accuracy: \", accuracy_score(twenty_test.target, pred))"
   ]
  },
  {
   "cell_type": "code",
   "execution_count": null,
   "metadata": {
    "collapsed": true
   },
   "outputs": [],
   "source": []
  }
 ],
 "metadata": {
  "kernelspec": {
   "display_name": "Python 3",
   "language": "python",
   "name": "python3"
  },
  "language_info": {
   "codemirror_mode": {
    "name": "ipython",
    "version": 3
   },
   "file_extension": ".py",
   "mimetype": "text/x-python",
   "name": "python",
   "nbconvert_exporter": "python",
   "pygments_lexer": "ipython3",
   "version": "3.5.2"
  }
 },
 "nbformat": 4,
 "nbformat_minor": 0
}
