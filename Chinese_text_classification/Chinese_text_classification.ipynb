{
 "cells": [
  {
   "cell_type": "markdown",
   "metadata": {},
   "source": [
    "# 中文文本分类\n",
    "\n",
    "## 1.语料\n",
    "\n",
    "- 使用[搜狐新闻数据(SogouCS)](http://www.sogou.com/labs/resource/cs.php)的精简版数据，考虑到实现规模，随机选取其中的一小部分作为训练集、验证集和测试集。\n",
    "- 使用BeautifulSoup库解析并提取该语料中的**`新闻正文`**及对应的**`类标号`**，具体实现请看*`load_data.py`*。"
   ]
  },
  {
   "cell_type": "code",
   "execution_count": 1,
   "metadata": {
    "collapsed": false
   },
   "outputs": [
    {
     "name": "stdout",
     "output_type": "stream",
     "text": [
      "载入数据完成！\n",
      "载入数据完成！\n",
      "number of training sample: 13059\n",
      "number of validating sample: 3282\n"
     ]
    }
   ],
   "source": [
    "# load_data.py\n",
    "from load_data import load_data\n",
    "\n",
    "# training dataset\n",
    "training_filename = ['./SogouCS.reduced/news.sohunews.010806.txt', \n",
    "                  './SogouCS.reduced/news.sohunews.020806.txt', \n",
    "                  './SogouCS.reduced/news.sohunews.030806.txt',\n",
    "                  './SogouCS.reduced/news.sohunews.050806.txt']\n",
    "                  # './SogouCS.reduced/news.sohunews.040806.txt',\n",
    "                  # './SogouCS.reduced/news.sohunews.050806.txt']\n",
    "\n",
    "# validating dataset\n",
    "validating_filename = ['./SogouCS.reduced/news.sohunews.040806.txt']\n",
    "                # './SogouCS.reduced/news.sohunews.070806.txt']\n",
    "\n",
    "# 解析并提取该语料中的文本内容及对应的类标号\n",
    "training_labels, training_cons = load_data(training_filename)\n",
    "validating_labels, validating_cons = load_data(validating_filename)\n",
    "\n",
    "# 查看数据集的大小\n",
    "print(\"number of training sample: %d\" % len(training_labels))\n",
    "print(\"number of validating sample: %d\" % len(validating_labels))"
   ]
  },
  {
   "cell_type": "markdown",
   "metadata": {},
   "source": [
    "从输出可以看到：\n",
    "\n",
    "- 训练集包含13059篇新闻\n",
    "- 验证集包含3282篇新闻"
   ]
  },
  {
   "cell_type": "markdown",
   "metadata": {},
   "source": [
    "## 2.分词\n",
    "\n",
    "- 选取了jieba（项目见[Github](https://github.com/fxsjy/jieba)）这个专门用于中文分词的python工具，使用它来进行中文分词操作。\n",
    "- 使用了*`stopwords.txt`*停用词表，对jieba分词后的文本进行去停用词操作。\n",
    "- 最后将分词及去停用词后的文本，保存在*`training_seg_corpus.txt`*和*`validating_seg_corpus.txt`*。\n",
    "- 具体实现请看*`seg_corpus.py`*。"
   ]
  },
  {
   "cell_type": "markdown",
   "metadata": {},
   "source": [
    "### 分词及去停用词"
   ]
  },
  {
   "cell_type": "code",
   "execution_count": 2,
   "metadata": {
    "collapsed": false
   },
   "outputs": [
    {
     "name": "stderr",
     "output_type": "stream",
     "text": [
      "Building prefix dict from C:\\Anaconda3\\lib\\site-packages\\jieba\\dict.txt ...\n",
      "Loading model from cache C:\\Users\\ADMINI~1\\AppData\\Local\\Temp\\jieba.cache\n"
     ]
    },
    {
     "name": "stdout",
     "output_type": "stream",
     "text": [
      "载入停用词完成！\n"
     ]
    },
    {
     "name": "stderr",
     "output_type": "stream",
     "text": [
      "Loading model cost 2.183000087738037 seconds.\n",
      "Prefix dict has been built succesfully.\n"
     ]
    },
    {
     "name": "stdout",
     "output_type": "stream",
     "text": [
      "分词和去停用词完成！\n",
      "载入停用词完成！\n",
      "分词和去停用词完成！\n"
     ]
    }
   ],
   "source": [
    "# seg_corpus.py\n",
    "from seg_corpus import seg_corpus\n",
    "\n",
    "seg_corpus(training_cons, './training_seg_corpus.txt')\n",
    "seg_corpus(validating_cons, './validating_seg_corpus.txt')"
   ]
  },
  {
   "cell_type": "markdown",
   "metadata": {},
   "source": [
    "### 查看分词情况"
   ]
  },
  {
   "cell_type": "code",
   "execution_count": 3,
   "metadata": {
    "collapsed": false
   },
   "outputs": [
    {
     "name": "stdout",
     "output_type": "stream",
     "text": [
      "#training sample: 13059\n",
      "反对 宪法 原则 危害 国家 安全 政权 稳定 统一 煽动 民族 仇恨 民族 歧视 宣扬 邪教 封建迷信 散布 谣言 破坏 稳定 侮辱 诽谤 侵害 合法权益 散布 淫秽 色情 赌博 暴力 凶杀 恐怖 教唆 犯罪\n",
      "\n",
      "#validating sample: 3282\n",
      "提供 资料 信息 仅供 投资者 参考 构成 投资 建议 财经频道 联系方式 热线电话\n",
      "\n"
     ]
    }
   ],
   "source": [
    "with open('./training_seg_corpus.txt', 'r', encoding='utf-8') as f:\n",
    "    training_corpus = f.readlines()\n",
    "    \n",
    "with open('./validating_seg_corpus.txt', 'r', encoding='utf-8') as f:\n",
    "    validating_corpus = f.readlines()\n",
    "    \n",
    "print(\"#training sample: %d\" % len(training_corpus))\n",
    "print(training_corpus[0])\n",
    "\n",
    "print(\"#validating sample: %d\" % len(validating_corpus))\n",
    "print(validating_corpus[0])"
   ]
  },
  {
   "cell_type": "markdown",
   "metadata": {},
   "source": [
    "同样从输出可以看到：\n",
    "\n",
    "- 训练集包含13059篇新闻\n",
    "- 验证集包含3282篇新闻\n",
    "- jieba分词的效果很好"
   ]
  },
  {
   "cell_type": "markdown",
   "metadata": {},
   "source": [
    "## 3.向量化表示\n",
    "\n",
    "文本数据属于非结构化的数据，一般要转换成结构化的数据，才能进行实施机器学习算法实现文本分类。\n",
    "\n",
    "常见的做法是将文本转换成『文档-词项矩阵』。矩阵中的元素，可以使用**词频**，或者**TF-IDF**值等。\n",
    "\n",
    "### 3.1 计算词频\n",
    "\n",
    "为了将原始文本转换成分类算法可以使用的特征数据，这里使用词袋(bag-of-word)方法来衡量文本间相似性，最终生成每个文本的特征向量。\n",
    "\n",
    "词袋方法基于简单的词频统计；统计每一个文本中的词频，表示成一个向量，即向量化。\n",
    "\n",
    "我们将使用Scikit-learn中的[**CountVectorizer**](http://scikit-learn.org/stable/modules/generated/sklearn.feature_extraction.text.CountVectorizer.html)来完成这项工作，它可以高效地完成词频统计的工作。"
   ]
  },
  {
   "cell_type": "code",
   "execution_count": 4,
   "metadata": {
    "collapsed": false
   },
   "outputs": [
    {
     "name": "stdout",
     "output_type": "stream",
     "text": [
      "#training sample: 13059, #feature: 91904\n",
      "#validating sample: 3282, #feature: 91904\n"
     ]
    }
   ],
   "source": [
    "from sklearn.feature_extraction.text import CountVectorizer\n",
    "\n",
    "count_vect = CountVectorizer(min_df=1) # min_df最小词频\n",
    "training_corpus_counts = count_vect.fit_transform(training_corpus)\n",
    "validating_corpus_counts = count_vect.transform(validating_corpus)\n",
    "\n",
    "num_training_samples, num_training_features = training_corpus_counts.shape\n",
    "print(\"#training sample: %d, #feature: %d\" % (num_training_samples, num_training_features))\n",
    "\n",
    "num_validating_samples, num_validating_features = validating_corpus_counts.shape\n",
    "print(\"#validating sample: %d, #feature: %d\" % (num_validating_samples, num_validating_features))"
   ]
  },
  {
   "cell_type": "markdown",
   "metadata": {},
   "source": [
    "从输出可以看到：\n",
    "\n",
    "- 13059个训练文档包含了91904个词语，也就是说训练集表示成了13059 * 91904的一个矩阵。"
   ]
  },
  {
   "cell_type": "markdown",
   "metadata": {},
   "source": [
    "### 3.2 计算TF-IDF\n",
    "\n",
    "这里使用TF-IDF来将原始文本转换成分类算法可以使用的特征数据。使用sklearn中的[**TfidfTransformer**](http://scikit-learn.org/stable/modules/generated/sklearn.feature_extraction.text.TfidfTransformer.html)来完成。"
   ]
  },
  {
   "cell_type": "code",
   "execution_count": 5,
   "metadata": {
    "collapsed": false
   },
   "outputs": [
    {
     "name": "stdout",
     "output_type": "stream",
     "text": [
      "#training sample: 13059, #feature: 91904\n",
      "#validating sample: 3282, #feature: 91904\n"
     ]
    }
   ],
   "source": [
    "from sklearn.feature_extraction.text import TfidfTransformer\n",
    "\n",
    "tfidf_transformer = TfidfTransformer()\n",
    "training_corpus_tfidf = tfidf_transformer.fit_transform(training_corpus_counts)\n",
    "validating_corpus_tfidf = tfidf_transformer.transform(validating_corpus_counts)\n",
    "\n",
    "num_training_samples, num_training_features = training_corpus_tfidf.shape\n",
    "print(\"#training sample: %d, #feature: %d\" % (num_training_samples, num_training_features))\n",
    "\n",
    "num_validating_samples, num_validating_features = validating_corpus_tfidf.shape\n",
    "print(\"#validating sample: %d, #feature: %d\" % (num_validating_samples, num_validating_features))"
   ]
  },
  {
   "cell_type": "markdown",
   "metadata": {},
   "source": [
    "## 4.分类器训练\n",
    "\n",
    "### 4.1 kNN\n",
    "\n",
    "这里使用sklearn中的[**KNeighborsClassifier**](http://scikit-learn.org/stable/modules/generated/sklearn.neighbors.KNeighborsClassifier.html)来训练模型，并在验证集上进行预测。"
   ]
  },
  {
   "cell_type": "code",
   "execution_count": 6,
   "metadata": {
    "collapsed": false
   },
   "outputs": [
    {
     "name": "stdout",
     "output_type": "stream",
     "text": [
      "training complete!\n",
      "training time 0.031 s\n",
      "validating complete!\n",
      "validating time 6.279 s\n",
      "Accuracy: 0.326020719074\n"
     ]
    }
   ],
   "source": [
    "from time import time\n",
    "from sklearn.neighbors import KNeighborsClassifier\n",
    "from sklearn.metrics import accuracy_score\n",
    "\n",
    "t0 = time()\n",
    "knnclf = KNeighborsClassifier()\n",
    "knnclf.fit(training_corpus_tfidf, training_labels)\n",
    "print('training complete!\\ntraining time %.3f s'% round(time()-t0, 3))\n",
    "\n",
    "t1 = time()\n",
    "knnpred = knnclf.predict(validating_corpus_tfidf)\n",
    "print('validating complete!\\nvalidating time %.3f s'% round(time()-t1, 3))\n",
    "\n",
    "accuracy = accuracy_score(validating_labels, knnpred)\n",
    "print(\"Accuracy:\", accuracy)"
   ]
  },
  {
   "cell_type": "markdown",
   "metadata": {},
   "source": [
    "从输出可以看到：\n",
    "\n",
    "- 训练时间远小于预测时间，这是因为kNN算法训练只是简单得把数据储存起来，而预测时需要进行大量的运算以找出k最近邻来进行预测，所有预测所需时间要长。\n",
    "- 使用sklearn中的KNeighborsClassifier分类器默认参数时，预测精确率只有0.326。\n",
    "- 这个分类器能优化吗？"
   ]
  },
  {
   "cell_type": "markdown",
   "metadata": {},
   "source": [
    "### 4.2 朴素贝叶斯\n",
    "\n",
    "这里使用sklearn中的[**MultinomialNB**](http://scikit-learn.org/stable/modules/generated/sklearn.naive_bayes.MultinomialNB.html)来训练模型，并在验证集上进行预测。"
   ]
  },
  {
   "cell_type": "code",
   "execution_count": 7,
   "metadata": {
    "collapsed": false
   },
   "outputs": [
    {
     "name": "stdout",
     "output_type": "stream",
     "text": [
      "training complete!\n",
      "training time 0.471 s\n",
      "validating complete!\n",
      "validating time 0.153 s\n",
      "Accuracy: 0.742230347349\n"
     ]
    }
   ],
   "source": [
    "from sklearn.naive_bayes import MultinomialNB\n",
    "\n",
    "t0 = time()\n",
    "mnbclf = MultinomialNB()\n",
    "mnbclf.fit(training_corpus_tfidf, training_labels)\n",
    "print('training complete!\\ntraining time %.3f s'% round(time()-t0, 3))\n",
    "\n",
    "t1 = time()\n",
    "mnbpred = mnbclf.predict(validating_corpus_tfidf)\n",
    "print('validating complete!\\nvalidating time %.3f s'% round(time()-t1, 3))\n",
    "\n",
    "accuracy = accuracy_score(validating_labels, mnbpred)\n",
    "print(\"Accuracy:\", accuracy)"
   ]
  },
  {
   "cell_type": "markdown",
   "metadata": {},
   "source": [
    "从输出可以看到：\n",
    "\n",
    "- 训练时间与预测时间的总和要比上面的kNN算法要少好几倍\n",
    "- 精确率达到了0.742，这比上面的kNN算法好两倍多\n",
    "- 综合来看，这里的朴素贝叶斯算法比上面的kNN算法要好很多\n",
    "- 这个结果还能提升吗？"
   ]
  },
  {
   "cell_type": "markdown",
   "metadata": {},
   "source": [
    "## 5.分类器优化"
   ]
  },
  {
   "cell_type": "markdown",
   "metadata": {},
   "source": [
    "### 5.1 特征选择\n",
    "\n",
    "特征选择对模型训练来说非常重要。好的特征选择能够提升模型的性能，更能帮助我们理解数据的特点、底层结构，这对进一步改善模型、算法都有着重要作用。\n",
    "\n",
    "特征选择主要有两个功能：\n",
    "\n",
    "1. 减少特征数量、降维，使模型泛化能力更强，减少过拟合\n",
    "2. 增强对特征和特征值之间的理解\n",
    "\n",
    "对分词和去停用词后，得到初步的91904个候选特征。\n",
    "\n",
    "现在结合文档频率（DF）进行过滤，将DF小于5的词项过滤掉:"
   ]
  },
  {
   "cell_type": "code",
   "execution_count": 8,
   "metadata": {
    "collapsed": false
   },
   "outputs": [
    {
     "name": "stdout",
     "output_type": "stream",
     "text": [
      "#training sample: 13059, #feature: 33603\n",
      "#validating sample: 3282, #feature: 33603\n"
     ]
    }
   ],
   "source": [
    "best_count_vect = CountVectorizer(min_df=5)\n",
    "training_corpus_counts = best_count_vect.fit_transform(training_corpus)\n",
    "validating_corpus_counts = best_count_vect.transform(validating_corpus)\n",
    "\n",
    "num_training_samples, num_training_features = training_corpus_counts.shape\n",
    "print(\"#training sample: %d, #feature: %d\" % (num_training_samples, num_training_features))\n",
    "\n",
    "num_validating_samples, num_validating_features = validating_corpus_counts.shape\n",
    "print(\"#validating sample: %d, #feature: %d\" % (num_validating_samples, num_validating_features))"
   ]
  },
  {
   "cell_type": "markdown",
   "metadata": {},
   "source": [
    "经过DF过滤后，得到初步的33603个候选特征。"
   ]
  },
  {
   "cell_type": "code",
   "execution_count": 9,
   "metadata": {
    "collapsed": false
   },
   "outputs": [
    {
     "name": "stdout",
     "output_type": "stream",
     "text": [
      "#training sample: 13059, #feature: 33603\n",
      "#validating sample: 3282, #feature: 33603\n"
     ]
    }
   ],
   "source": [
    "best_tfidf_transformer = TfidfTransformer()\n",
    "training_corpus_tfidf = best_tfidf_transformer.fit_transform(training_corpus_counts)\n",
    "validating_corpus_tfidf = best_tfidf_transformer.transform(validating_corpus_counts)\n",
    "\n",
    "num_training_samples, num_training_features = training_corpus_tfidf.shape\n",
    "print(\"#training sample: %d, #feature: %d\" % (num_training_samples, num_training_features))\n",
    "\n",
    "num_validating_samples, num_validating_features = validating_corpus_tfidf.shape\n",
    "print(\"#validating sample: %d, #feature: %d\" % (num_validating_samples, num_validating_features))"
   ]
  },
  {
   "cell_type": "markdown",
   "metadata": {},
   "source": [
    "### KBest\n",
    "\n",
    "接着使用卡方统计量来进行特征提取，然后使用sklearn中的[**SelectKBest**](http://scikit-learn.org/stable/modules/generated/sklearn.feature_selection.SelectKBest.html#sklearn.feature_selection.SelectKBest)来选择chi值最大的k个特征。"
   ]
  },
  {
   "cell_type": "markdown",
   "metadata": {},
   "source": [
    "### kNN"
   ]
  },
  {
   "cell_type": "code",
   "execution_count": 10,
   "metadata": {
    "collapsed": false
   },
   "outputs": [],
   "source": [
    "from sklearn.feature_selection import SelectKBest, chi2\n",
    "\n",
    "knn_accuracy = []\n",
    "for k in range(500, num_training_features, 500):\n",
    "    ch2 = SelectKBest(chi2, k=k)\n",
    "\n",
    "    training_corpus_chi2 = ch2.fit_transform(training_corpus_tfidf, training_labels)\n",
    "    validating_corpus_chi2 = ch2.transform(validating_corpus_tfidf)\n",
    "    \n",
    "    knnclf = KNeighborsClassifier()\n",
    "    knnclf.fit(training_corpus_chi2, training_labels)\n",
    "    knnpred = knnclf.predict(validating_corpus_chi2)\n",
    "    accuracy = accuracy_score(validating_labels, knnpred)\n",
    "    knn_accuracy.append(accuracy)"
   ]
  },
  {
   "cell_type": "code",
   "execution_count": 11,
   "metadata": {
    "collapsed": false
   },
   "outputs": [
    {
     "data": {
      "text/plain": [
       "[<matplotlib.lines.Line2D at 0xd365cf0>]"
      ]
     },
     "execution_count": 11,
     "metadata": {},
     "output_type": "execute_result"
    },
    {
     "data": {
      "image/png": "[encoded data removed]",
      "text/plain": [
       "<matplotlib.figure.Figure at 0xa340b50>"
      ]
     },
     "metadata": {},
     "output_type": "display_data"
    }
   ],
   "source": [
    "import matplotlib.pyplot as plt\n",
    "%matplotlib inline\n",
    "\n",
    "features = [i for i in range(500, num_training_features, 500)]\n",
    "plt.plot(features, knn_accuracy)"
   ]
  },
  {
   "cell_type": "markdown",
   "metadata": {},
   "source": [
    "从上图可以看出，随着选择的特征数量的增加，kNN分类器的准确率降低。而在k=500时，即选择chi值最大的500个特征时，准确率最高，达到了0.75，比起未进行特征选择时，提高了三倍。"
   ]
  },
  {
   "cell_type": "markdown",
   "metadata": {},
   "source": [
    "### MultinomialNB"
   ]
  },
  {
   "cell_type": "code",
   "execution_count": 12,
   "metadata": {
    "collapsed": true
   },
   "outputs": [],
   "source": [
    "mnb_accuracy = []\n",
    "for k in range(500, num_training_features, 500):\n",
    "    ch2 = SelectKBest(chi2, k=k)\n",
    "\n",
    "    training_corpus_chi2 = ch2.fit_transform(training_corpus_tfidf, training_labels)\n",
    "    validating_corpus_chi2 = ch2.transform(validating_corpus_tfidf)\n",
    "    \n",
    "    mnbclf = MultinomialNB()\n",
    "    mnbclf.fit(training_corpus_chi2, training_labels)\n",
    "    mnbpred = mnbclf.predict(validating_corpus_chi2)\n",
    "    accuracy = accuracy_score(validating_labels, mnbpred)\n",
    "    mnb_accuracy.append(accuracy)"
   ]
  },
  {
   "cell_type": "code",
   "execution_count": 13,
   "metadata": {
    "collapsed": false
   },
   "outputs": [
    {
     "data": {
      "text/plain": [
       "[<matplotlib.lines.Line2D at 0x10ad0870>]"
      ]
     },
     "execution_count": 13,
     "metadata": {},
     "output_type": "execute_result"
    },
    {
     "data": {
      "image/png": "[encoded data removed]",
      "text/plain": [
       "<matplotlib.figure.Figure at 0xd3a7b10>"
      ]
     },
     "metadata": {},
     "output_type": "display_data"
    }
   ],
   "source": [
    "features = [i for i in range(500, num_training_features, 500)]\n",
    "plt.plot(features, mnb_accuracy)"
   ]
  },
  {
   "cell_type": "markdown",
   "metadata": {},
   "source": [
    "从上图可以看出，随着选择的特征数量的增加，准确率先迅速增加，在选择的特征数量达到5000时，缓慢减小。准确率最高达到了0.78，比起未进行特征选择时，提高了0.04，效果不怎么明显。"
   ]
  },
  {
   "cell_type": "markdown",
   "metadata": {},
   "source": [
    "### 5.2 参数调优"
   ]
  },
  {
   "cell_type": "markdown",
   "metadata": {},
   "source": [
    "### kNN"
   ]
  },
  {
   "cell_type": "code",
   "execution_count": 14,
   "metadata": {
    "collapsed": true
   },
   "outputs": [],
   "source": [
    "knnch2 = SelectKBest(chi2, k=500)\n",
    "\n",
    "training_corpus_knnchi2 = knnch2.fit_transform(training_corpus_tfidf, training_labels)\n",
    "validating_corpus_knnchi2 = knnch2.transform(validating_corpus_tfidf)"
   ]
  },
  {
   "cell_type": "code",
   "execution_count": 15,
   "metadata": {
    "collapsed": true
   },
   "outputs": [],
   "source": [
    "knn_accuracy = []\n",
    "for k in range(1, 50):\n",
    "    knnclf = KNeighborsClassifier(n_neighbors=k)\n",
    "    knnclf.fit(training_corpus_knnchi2, training_labels)\n",
    "    knnpred = knnclf.predict(validating_corpus_knnchi2)\n",
    "    accuracy = accuracy_score(validating_labels, knnpred)\n",
    "    knn_accuracy.append(accuracy)"
   ]
  },
  {
   "cell_type": "code",
   "execution_count": 16,
   "metadata": {
    "collapsed": false
   },
   "outputs": [
    {
     "data": {
      "text/plain": [
       "[<matplotlib.lines.Line2D at 0x10b0f490>]"
      ]
     },
     "execution_count": 16,
     "metadata": {},
     "output_type": "execute_result"
    },
    {
     "data": {
      "image/png": "[encoded data removed]",
      "text/plain": [
       "<matplotlib.figure.Figure at 0xd3417f0>"
      ]
     },
     "metadata": {},
     "output_type": "display_data"
    }
   ],
   "source": [
    "k = range(1, 50)\n",
    "plt.plot(k, knn_accuracy)"
   ]
  },
  {
   "cell_type": "markdown",
   "metadata": {},
   "source": [
    "从上图可以看出，总体上准确率随最近邻数k的增大，先增后减。在最近邻数k=7时，准确率最大，接近0.76。"
   ]
  },
  {
   "cell_type": "code",
   "execution_count": 17,
   "metadata": {
    "collapsed": false
   },
   "outputs": [
    {
     "name": "stdout",
     "output_type": "stream",
     "text": [
      "Accuracy: 0.759293113955\n"
     ]
    }
   ],
   "source": [
    "best_knnch2 = SelectKBest(chi2, k=500)\n",
    "\n",
    "training_corpus_knnchi2 = best_knnch2.fit_transform(training_corpus_tfidf, training_labels)\n",
    "validating_corpus_knnchi2 = best_knnch2.transform(validating_corpus_tfidf)\n",
    "\n",
    "best_knnclf = KNeighborsClassifier(n_neighbors=7)\n",
    "best_knnclf.fit(training_corpus_knnchi2, training_labels)\n",
    "knnpred = best_knnclf.predict(validating_corpus_knnchi2)\n",
    "accuracy = accuracy_score(validating_labels, knnpred)\n",
    "print(\"Accuracy:\", accuracy)"
   ]
  },
  {
   "cell_type": "markdown",
   "metadata": {},
   "source": [
    "### 朴素贝叶斯"
   ]
  },
  {
   "cell_type": "code",
   "execution_count": 26,
   "metadata": {
    "collapsed": false
   },
   "outputs": [
    {
     "name": "stdout",
     "output_type": "stream",
     "text": [
      "Accuracy: 0.782145033516\n"
     ]
    }
   ],
   "source": [
    "best_mnbch2 = SelectKBest(chi2, k=8000)\n",
    "\n",
    "training_corpus_mnbchi2 = best_mnbch2.fit_transform(training_corpus_tfidf, training_labels)\n",
    "validating_corpus_mnbchi2 = best_mnbch2.transform(validating_corpus_tfidf)\n",
    "\n",
    "best_mnbclf = MultinomialNB()\n",
    "best_mnbclf.fit(training_corpus_mnbchi2, training_labels)\n",
    "mnbpred = best_mnbclf.predict(validating_corpus_mnbchi2)\n",
    "accuracy = accuracy_score(validating_labels, mnbpred)\n",
    "print(\"Accuracy:\", accuracy)"
   ]
  },
  {
   "cell_type": "markdown",
   "metadata": {
    "collapsed": true
   },
   "source": [
    "## 6.分类器性能评估"
   ]
  },
  {
   "cell_type": "markdown",
   "metadata": {},
   "source": [
    "### 6.1 测试数据集"
   ]
  },
  {
   "cell_type": "code",
   "execution_count": 19,
   "metadata": {
    "collapsed": false
   },
   "outputs": [
    {
     "name": "stdout",
     "output_type": "stream",
     "text": [
      "载入数据完成！\n",
      "number of testing sample: 3215\n",
      "载入停用词完成！\n",
      "分词和去停用词完成！\n",
      "#testing sample: 3215, #feature: 33603\n",
      "#testing sample: 3215, #feature: 33603\n"
     ]
    }
   ],
   "source": [
    "# testing dataset\n",
    "testing_filename = ['./SogouCS.reduced/news.sohunews.070806.txt']\n",
    "\n",
    "# 解析并提取该语料中的文本内容及对应的类标号\n",
    "testing_labels, testing_cons = load_data(testing_filename)\n",
    "\n",
    "# 查看数据集的大小\n",
    "print(\"number of testing sample: %d\" % len(testing_labels))\n",
    "\n",
    "# 分词\n",
    "seg_corpus(testing_cons, './testing_seg_corpus.txt')\n",
    "\n",
    "with open('./testing_seg_corpus.txt', 'r', encoding='utf-8') as f:\n",
    "    testing_corpus = f.readlines()\n",
    "\n",
    "# DF\n",
    "testing_corpus_counts = best_count_vect.transform(testing_corpus)\n",
    "num_testing_samples, num_testing_features = testing_corpus_counts.shape\n",
    "print(\"#testing sample: %d, #feature: %d\" % (num_testing_samples, num_testing_features))\n",
    "\n",
    "# TF-IDF\n",
    "testing_corpus_tfidf = best_tfidf_transformer.transform(testing_corpus_counts)\n",
    "num_testing_samples, num_testing_features = testing_corpus_tfidf.shape\n",
    "print(\"#testing sample: %d, #feature: %d\" % (num_testing_samples, num_testing_features))"
   ]
  },
  {
   "cell_type": "markdown",
   "metadata": {},
   "source": [
    "### 6.2 kNN"
   ]
  },
  {
   "cell_type": "code",
   "execution_count": 20,
   "metadata": {
    "collapsed": false
   },
   "outputs": [
    {
     "name": "stdout",
     "output_type": "stream",
     "text": [
      "Accuracy: 0.753965785381\n"
     ]
    }
   ],
   "source": [
    "testing_corpus_knnchi2 = best_knnch2.transform(testing_corpus_tfidf)\n",
    "\n",
    "knnpred = best_knnclf.predict(testing_corpus_knnchi2)\n",
    "accuracy = accuracy_score(testing_labels, knnpred)\n",
    "print(\"Accuracy:\", accuracy)"
   ]
  },
  {
   "cell_type": "code",
   "execution_count": 21,
   "metadata": {
    "collapsed": false
   },
   "outputs": [
    {
     "name": "stdout",
     "output_type": "stream",
     "text": [
      "             precision    recall  f1-score   support\n",
      "\n",
      "       auto       0.93      0.57      0.70        46\n",
      "   business       0.79      0.73      0.76       496\n",
      "        cul       0.50      0.04      0.08        24\n",
      "     health       0.74      0.33      0.46        42\n",
      "      house       0.96      0.81      0.87       530\n",
      "         it       0.48      0.29      0.36        92\n",
      "   learning       0.82      0.56      0.67        75\n",
      "        mil       0.33      0.07      0.11        29\n",
      "       news       0.50      0.80      0.62       625\n",
      "     sports       0.94      0.88      0.91       845\n",
      "     travel       0.77      0.43      0.56        69\n",
      "      women       0.67      0.77      0.72       105\n",
      "       yule       0.81      0.70      0.75       237\n",
      "\n",
      "avg / total       0.79      0.75      0.76      3215\n",
      "\n"
     ]
    }
   ],
   "source": [
    "from sklearn import metrics\n",
    "print(metrics.classification_report(testing_labels, knnpred))"
   ]
  },
  {
   "cell_type": "markdown",
   "metadata": {},
   "source": [
    "最终，kNN分类器在测试集上准确率到0.75，而精确度、召回率、F1值也在0.75附近，总体来说kNN分类器的效果不错。"
   ]
  },
  {
   "cell_type": "markdown",
   "metadata": {},
   "source": [
    "### 6.3 MultinomialNB"
   ]
  },
  {
   "cell_type": "code",
   "execution_count": 27,
   "metadata": {
    "collapsed": false
   },
   "outputs": [
    {
     "name": "stdout",
     "output_type": "stream",
     "text": [
      "Accuracy: 0.785069984448\n"
     ]
    }
   ],
   "source": [
    "testing_corpus_mnbchi2 = best_mnbch2.transform(testing_corpus_tfidf)\n",
    "\n",
    "mnbpred = best_mnbclf.predict(testing_corpus_mnbchi2)\n",
    "accuracy = accuracy_score(testing_labels, mnbpred)\n",
    "print(\"Accuracy:\", accuracy)"
   ]
  },
  {
   "cell_type": "code",
   "execution_count": 23,
   "metadata": {
    "collapsed": false
   },
   "outputs": [
    {
     "name": "stdout",
     "output_type": "stream",
     "text": [
      "             precision    recall  f1-score   support\n",
      "\n",
      "       auto       1.00      0.39      0.56        46\n",
      "   business       0.73      0.85      0.79       496\n",
      "        cul       0.00      0.00      0.00        24\n",
      "     health       0.00      0.00      0.00        42\n",
      "      house       0.98      0.84      0.90       530\n",
      "         it       0.75      0.03      0.06        92\n",
      "   learning       0.89      0.41      0.56        75\n",
      "        mil       0.00      0.00      0.00        29\n",
      "       news       0.58      0.85      0.69       625\n",
      "     sports       0.90      0.95      0.92       845\n",
      "     travel       1.00      0.19      0.32        69\n",
      "      women       0.93      0.49      0.64       105\n",
      "       yule       0.84      0.87      0.86       237\n",
      "\n",
      "avg / total       0.79      0.79      0.76      3215\n",
      "\n"
     ]
    },
    {
     "name": "stderr",
     "output_type": "stream",
     "text": [
      "C:\\Anaconda3\\lib\\site-packages\\sklearn\\metrics\\classification.py:1074: UndefinedMetricWarning: Precision and F-score are ill-defined and being set to 0.0 in labels with no predicted samples.\n",
      "  'precision', 'predicted', average, warn_for)\n"
     ]
    }
   ],
   "source": [
    "print(metrics.classification_report(testing_labels, mnbpred))"
   ]
  },
  {
   "cell_type": "markdown",
   "metadata": {},
   "source": [
    "最终，MultinomialNB分类器在测试集上准确率到0.78，而精确度、召回率、F1值比kNN分类器稍微好一点。总的来说，MultinomialNB要比kNN好，无论是训练测试时间，还是准确率等。"
   ]
  }
 ],
 "metadata": {
  "anaconda-cloud": {},
  "kernelspec": {
   "display_name": "Python [Root]",
   "language": "python",
   "name": "Python [Root]"
  },
  "language_info": {
   "codemirror_mode": {
    "name": "ipython",
    "version": 3
   },
   "file_extension": ".py",
   "mimetype": "text/x-python",
   "name": "python",
   "nbconvert_exporter": "python",
   "pygments_lexer": "ipython3",
   "version": "3.5.2"
  }
 },
 "nbformat": 4,
 "nbformat_minor": 0
}
