{
 "cells": [
  {
   "cell_type": "markdown",
   "metadata": {},
   "source": [
    "# 停用词清理测试\n",
    "\n",
    "完成自然语言理解与文本分类等任务时，都需要预处理文本，自动过滤掉某些不能表征意义的字、词或符号，这些字或词被称为停用词（stop words）\n",
    "\n",
    "进行文本分词后形成的词条组中会存在很多停用词，这些词基本不具备表示文本特征的能力，其存在会影响其他词对文本特征的表征能力，因此，需要过滤后才能形成”干净“的文本特征。"
   ]
  },
  {
   "cell_type": "code",
   "execution_count": 21,
   "metadata": {
    "collapsed": true
   },
   "outputs": [],
   "source": [
    "import jieba"
   ]
  },
  {
   "cell_type": "code",
   "execution_count": 22,
   "metadata": {
    "collapsed": false
   },
   "outputs": [
    {
     "name": "stdout",
     "output_type": "stream",
     "text": [
      "-----清理前的词条-----\n",
      "Default Mode: 春秋时期/有/一个/农夫/，/他/总是/嫌/田里/的/庄稼/长得/太慢/，/今天/去/瞧瞧/，/明天/去/看/ /看/，/觉得/禾苗/好像/总没长/高/。/他/心想/：/有/什么/办法/使/它们/长得/高些/快些/呢/？\n"
     ]
    }
   ],
   "source": [
    "seg_list = jieba.cut(u'春秋时期有一个农夫，他总是嫌田里的庄稼长得太慢，今天去瞧瞧，明天去看 看，觉得禾苗好像总没长高。他心想：有什么办法使它们长得高些快些呢？', cut_all=False)\n",
    "liststr = \"/\".join(seg_list)\n",
    "print(\"-----清理前的词条-----\")\n",
    "print(\"Default Mode:\", liststr)"
   ]
  },
  {
   "cell_type": "markdown",
   "metadata": {},
   "source": [
    "上述分词结果中，”有“，”能“，”呢“，”什么“等词以及标点符号都属于停用词的范围，应对其进行清理。清理的方式是建立停用词表，扫描分词结果，从中剔除停用词表中的词条。"
   ]
  },
  {
   "cell_type": "code",
   "execution_count": 23,
   "metadata": {
    "collapsed": false
   },
   "outputs": [
    {
     "name": "stdout",
     "output_type": "stream",
     "text": [
      "-----清理后的词条-----\n",
      "春秋时期,一个,农夫,总是,嫌,田里,庄稼,长得,太慢,今天,瞧瞧,明天,觉得,禾苗,好像,总没长,高,心想,办法,使,长得,高些,快些\n"
     ]
    }
   ],
   "source": [
    "with open('./stopwords.txt') as f_stop:\n",
    "    f_stop_text = f_stop.read()\n",
    "\n",
    "f_stop_seg_list = f_stop_text.split('\\n')\n",
    "\n",
    "liststr_stop_word = []\n",
    "for myword in liststr.split('/'):\n",
    "    if not(myword.strip() in f_stop_seg_list):\n",
    "        liststr_stop_word.append(myword)\n",
    "        \n",
    "print(\"-----清理后的词条-----\")\n",
    "print(\",\".join(liststr_stop_word))"
   ]
  },
  {
   "cell_type": "markdown",
   "metadata": {},
   "source": [
    "从直观上看，清理停用词后留下的文本词条表征文本的能力都比较强。"
   ]
  },
  {
   "cell_type": "code",
   "execution_count": null,
   "metadata": {
    "collapsed": true
   },
   "outputs": [],
   "source": []
  }
 ],
 "metadata": {
  "kernelspec": {
   "display_name": "Python 3",
   "language": "python",
   "name": "python3"
  },
  "language_info": {
   "codemirror_mode": {
    "name": "ipython",
    "version": 3
   },
   "file_extension": ".py",
   "mimetype": "text/x-python",
   "name": "python",
   "nbconvert_exporter": "python",
   "pygments_lexer": "ipython3",
   "version": "3.5.2"
  }
 },
 "nbformat": 4,
 "nbformat_minor": 0
}
